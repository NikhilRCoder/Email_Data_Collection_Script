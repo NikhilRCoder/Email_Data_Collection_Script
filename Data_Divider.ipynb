{
 "cells": [
  {
   "cell_type": "markdown",
   "id": "65aff993-26ae-460a-b8d5-79d39ae1405e",
   "metadata": {},
   "source": [
    "## Import Libraries"
   ]
  },
  {
   "cell_type": "code",
   "execution_count": 3,
   "id": "00ac3e95-1a1d-4930-8f73-1bdadea49edb",
   "metadata": {},
   "outputs": [],
   "source": [
    "import pandas as pd"
   ]
  },
  {
   "cell_type": "markdown",
   "id": "acbf5159-be57-420f-b444-6a38e20fd433",
   "metadata": {},
   "source": [
    "## Load the File"
   ]
  },
  {
   "cell_type": "code",
   "execution_count": 6,
   "id": "fd3de9a5-72f1-471c-b94f-f3dd49dd1ea1",
   "metadata": {},
   "outputs": [
    {
     "name": "stdout",
     "output_type": "stream",
     "text": [
      "                                                 URL\n",
      "0  https://www.zaubacorp.com/ONEALLIANCE-INFOSERV...\n",
      "1  https://www.zaubacorp.com/INNOVATIVE-ERA-TECHN...\n",
      "2  https://www.zaubacorp.com/CODEDYNAMIS-TECHNOLO...\n",
      "3  https://www.zaubacorp.com/YASHASHREE-MANAGEMEN...\n",
      "4  https://www.zaubacorp.com/KUMAR-BUILDERS-CONSO...\n",
      "Total number of entries: 1350\n"
     ]
    }
   ],
   "source": [
    "# Load the Excel file\n",
    "file_path = 'URL_Data_2_Sourabh.xlsx'  # Replace with your file path\n",
    "df = pd.read_excel(file_path)\n",
    "\n",
    "# Display the first few rows and the total number of entries\n",
    "print(df.head())\n",
    "print(f'Total number of entries: {len(df)}')"
   ]
  },
  {
   "cell_type": "markdown",
   "id": "70cffda1-c9a6-4a20-a59b-092888288ac3",
   "metadata": {},
   "source": [
    "## Split Data (Control)"
   ]
  },
  {
   "cell_type": "code",
   "execution_count": 14,
   "id": "8daa92a6-2776-49e3-9929-f5494aec3e82",
   "metadata": {},
   "outputs": [
    {
     "name": "stdout",
     "output_type": "stream",
     "text": [
      "Number of files to be created: 3\n"
     ]
    }
   ],
   "source": [
    "# Define the number of rows per file\n",
    "rows_per_file = 500  # Change this to your desired number\n",
    "\n",
    "# Calculate the number of files needed\n",
    "num_files = len(df) // rows_per_file + (len(df) % rows_per_file > 0)\n",
    "print(f'Number of files to be created: {num_files}')"
   ]
  },
  {
   "cell_type": "markdown",
   "id": "2682c706-4ff6-4d5a-9ffb-2965ce4f9beb",
   "metadata": {},
   "source": [
    "## Execute"
   ]
  },
  {
   "cell_type": "code",
   "execution_count": 17,
   "id": "264a47d3-b158-41d4-b429-9b72f372d5c2",
   "metadata": {},
   "outputs": [
    {
     "name": "stdout",
     "output_type": "stream",
     "text": [
      "Saved output_file_1.xlsx with 500 entries.\n",
      "Saved output_file_2.xlsx with 500 entries.\n",
      "Saved output_file_3.xlsx with 350 entries.\n"
     ]
    }
   ],
   "source": [
    "for i in range(num_files):\n",
    "    start_row = i * rows_per_file\n",
    "    end_row = start_row + rows_per_file\n",
    "    chunk = df.iloc[start_row:end_row]\n",
    "    \n",
    "    # Save the chunk to a new Excel file\n",
    "    output_file = f'output_file_{i + 1}.xlsx'  # Change the naming convention as needed\n",
    "    chunk.to_excel(output_file, index=False)\n",
    "    print(f'Saved {output_file} with {len(chunk)} entries.')"
   ]
  }
 ],
 "metadata": {
  "kernelspec": {
   "display_name": "Python 3 (ipykernel)",
   "language": "python",
   "name": "python3"
  },
  "language_info": {
   "codemirror_mode": {
    "name": "ipython",
    "version": 3
   },
   "file_extension": ".py",
   "mimetype": "text/x-python",
   "name": "python",
   "nbconvert_exporter": "python",
   "pygments_lexer": "ipython3",
   "version": "3.11.7"
  }
 },
 "nbformat": 4,
 "nbformat_minor": 5
}
