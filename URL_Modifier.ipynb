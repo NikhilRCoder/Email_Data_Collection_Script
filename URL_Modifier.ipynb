{
 "cells": [
  {
   "cell_type": "markdown",
   "id": "d243298f-fa87-4e47-84ec-34c226a95a6c",
   "metadata": {},
   "source": [
    "## Import Libraries"
   ]
  },
  {
   "cell_type": "code",
   "execution_count": 8,
   "id": "b8fb6a6e-50ad-48db-a58c-eac7f242a7a1",
   "metadata": {},
   "outputs": [],
   "source": [
    "import pandas as pd"
   ]
  },
  {
   "cell_type": "markdown",
   "id": "2a432716-8f8c-4c5d-be98-f44872c9c8b2",
   "metadata": {},
   "source": [
    "## File Path"
   ]
  },
  {
   "cell_type": "code",
   "execution_count": 19,
   "id": "b72a94c2-9a25-4f45-9687-bce532d97be1",
   "metadata": {},
   "outputs": [],
   "source": [
    "file_path = \"150_mails.xlsx\"\n",
    "df = pd.read_excel(file_path)"
   ]
  },
  {
   "cell_type": "markdown",
   "id": "b1afc2bd-82ea-47da-9cf8-7523a04631ba",
   "metadata": {},
   "source": [
    "## Modifier"
   ]
  },
  {
   "cell_type": "code",
   "execution_count": 30,
   "id": "67283f26-d8d0-4ae9-8ac9-b71fcd973f82",
   "metadata": {},
   "outputs": [],
   "source": [
    "urls = df.iloc[:, 0].dropna().tolist()"
   ]
  },
  {
   "cell_type": "markdown",
   "id": "df3e5a6f-b95b-462b-8f08-db3f361c9536",
   "metadata": {},
   "source": [
    "## Print"
   ]
  },
  {
   "cell_type": "code",
   "execution_count": 54,
   "id": "4de1c4c6-5094-4585-9af2-115dc9559708",
   "metadata": {},
   "outputs": [
    {
     "name": "stdout",
     "output_type": "stream",
     "text": [
      "urls = [\n",
      "    \"https://www.zaubacorp.com/MURLI-REALTORS-PRIVATE-LIMITED-U45201PN1995PTC085146\",\n",
      "    \"https://www.zaubacorp.com/HI-5-BROADBAND-SOLUTION-PRIVATE-LIMITED-U74999PN2013PTC149284\",\n",
      "    \"https://www.zaubacorp.com/STAR-MECH-CONTROLS-INDIA-PRIVATE-LTD-U74999MH1994PTC077723\",\n",
      "    \"https://www.zaubacorp.com/STABLE-INDUSTRIES-PRIVATE-LIMITED-U74110PN2010PTC135601\",\n",
      "    \"https://www.zaubacorp.com/VIRAJ-PROJECTS-PRIVATE-LIMITED-U45209PN2005PTC021092\",\n",
      "    \"https://www.zaubacorp.com/LEARNSURE-AI-PRIVATE-LIMITED-U72100PN2014PTC151502\",\n",
      "    \"https://www.zaubacorp.com/SHATAU-GLOBAL-MARKETING-PRIVATE-LIMITED-U74999PN2018PTC174502\",\n",
      "    \"https://www.zaubacorp.com/SUYASH-AUTO-PRESS-COMPONENTS-AND-ASSEMBLYS-PVT-LTD-U50103MH1993PTC071402\",\n",
      "    \"https://www.zaubacorp.com/ENRITA-S-SOLUTIONS-PRIVATE-LIMITED-U72900PN2001PTC157839\",\n",
      "    \"https://www.zaubacorp.com/VIPIN-FOREX-PRIVATE-LIMITED-U67190PN2004PTC018851\",\n",
      "    \"https://www.zaubacorp.com/FORI-AUTOMATION-INDIA-PRIVATE-LIMITED-U93090PN2007PTC131552\",\n",
      "    \"https://www.zaubacorp.com/MIDDSHINE-TECHNOLOGIS-PRIVATE-LIMITED-U74110PN2013PTC147010\",\n",
      "    \"https://www.zaubacorp.com/GLEANORE-INDIA-PRIVATE-LIMITED-U74999PN2018PTC174839\",\n",
      "    \"https://www.zaubacorp.com/AIRCARE-SYSTEM-AND-SOLUTION-INDIA-PRIVATE-LIMITED-U74999PN2017PTC170048\",\n",
      "    \"https://www.zaubacorp.com/TONTECH-ENGINEERS-PRIVATE-LIMITED-U45400PN2010PTC155142\",\n",
      "    \"https://www.zaubacorp.com/YASHANAND-INFRA-PRIVATE-LIMITED-U45200PN2015PTC154053\",\n",
      "    \"https://www.zaubacorp.com/CONNVERTEX-TECHNOLOGIES-INDIA-PRIVATE-LIMITED-U72900PN2011FTC139378\",\n",
      "    \"https://www.zaubacorp.com/NEW-BALANCE-INDIA-PRIVATE-LIMITED-U51909PN2022FTC207710\",\n",
      "    \"https://www.zaubacorp.com/MAGIC-SOFTWARE-ENTERPRISES-INDIA-PRIVATE-LIMITED-U72200MH1997PTC112303\",\n",
      "    \"https://www.zaubacorp.com/ALLIED-TRANSLINK-PRIVATE-LIMITED-U60200PN2016PTC158759\",\n",
      "    \"https://www.zaubacorp.com/SAKA-ENGINEERING-SYSTEMS-PRIVATE-LIMITED-U74900PN2010PTC135874\",\n",
      "    \"https://www.zaubacorp.com/DEMECH-OVERSEAS-CONSTRUCTION-PVT-LTD-U45309PN1978PTC020599\",\n",
      "    \"https://www.zaubacorp.com/M-B-LANDMARKS-PRIVATE-LIMITED-U45400PN2015PTC157183\",\n",
      "    \"https://www.zaubacorp.com/KAYSER-AUTOMOTIVE-SYSTEMS-INDIA-PRIVATE-LIMITED-U74900PN2013FTC149648\",\n",
      "    \"https://www.zaubacorp.com/DOUBLE-EIGHTS-VENTURE-PRIVATE-LIMITED-U74999PN2018PTC203623\",\n",
      "    \"https://www.zaubacorp.com/LINQ-THERAPEUTICS-PRIVATE-LIMITED-U74999PN2015PTC156595\",\n",
      "    \"https://www.zaubacorp.com/ZAHEER-VAKIL-ESTATES-PRIVATE-LIMITED-U45200PN2002PTC214667\",\n",
      "    \"https://www.zaubacorp.com/KESHAR-AGROTECH-PRIVATE-LIMITED-U01111PN2000PTC014790\",\n",
      "    \"https://www.zaubacorp.com/AJINKYA-MOTORS-PVT-LTD-U01100MH1987PTC044573\",\n",
      "    \"https://www.zaubacorp.com/INDRAYANI-FOODS-LTD-U15543MH1994PLC076178\",\n",
      "    \"https://www.zaubacorp.com/MRC-LOGISTICS-INDIA-PRIVATE-LIMITED-U63090PN2002PTC017316\",\n",
      "    \"https://www.zaubacorp.com/KALYANI-SKILLS-PRIVATE-LIMITED-U80903PN2012PTC143985\",\n",
      "    \"https://www.zaubacorp.com/SAI-SERVICE-SPARES-AND-ACCESSORIES-PRIVATE-LIMITED-U23300PN1991PTC062654\",\n",
      "    \"https://www.zaubacorp.com/MANCHAR-DIAGNOSTICS-CENTRE-PRIVATE-LIMITED-U74999PN2016PTC164868\",\n",
      "    \"https://www.zaubacorp.com/MANAS-HOLIDAY-RESORTS-PRIVATE-LIMITED-U55901PN1998PTC013011\",\n",
      "    \"https://www.zaubacorp.com/TAMARIND-INSURANCE-BROKERS-PRIVATE-LIMITED-U67100PN2022PTC215299\",\n",
      "    \"https://www.zaubacorp.com/SAAKETH-ELECTROCIRCUIT-PRIVATE-LIMITED-U74999PN2019PTC182897\",\n",
      "    \"https://www.zaubacorp.com/TECHENCE-IT-SOLUTIONS-PRIVATE-LIMITED-U72200PN2012PTC142133\",\n",
      "    \"https://www.zaubacorp.com/KESAR-FOREX-PRIVATE-LIMITED-U65999PN2005PTC020265\",\n",
      "    \"https://www.zaubacorp.com/VISWAKARMA-BUILDTECH-INDIA-PRIVATE-LIMITED-U45100PN2009PTC148904\",\n",
      "    \"https://www.zaubacorp.com/THERMON-INDIA-PRIVATE-LIMITED-U99999MH1983PTC030628\",\n",
      "    \"https://www.zaubacorp.com/DATTATRAYAPUSHPALATA-PROPERTIES-PRIVATE-LIMITED-U70109PN2005PTC021227\",\n",
      "    \"https://www.zaubacorp.com/PIMPRI-CHINCHWAD-MEDIA-COMMUNICATIONS-PRIVATE-LIMITED-U32201PN2011PTC142898\",\n",
      "    \"https://www.zaubacorp.com/ACE-ELECTRONICS-PRIVATE-LIMITED-U72200PN2013PTC147513\",\n",
      "    \"https://www.zaubacorp.com/ROHAN-CORRUPACK-PRIVATE-LIMITED-U21023PN2011PTC139857\",\n",
      "    \"https://www.zaubacorp.com/HUNS-DIGITAL-HOMES-PRIVATE-LIMITED-U51505PN2002PTC017218\",\n",
      "    \"https://www.zaubacorp.com/EMPORIS-AUTOACCESS-PRIVATE-LIMITED-U74900PN2011PTC141669\",\n",
      "    \"https://www.zaubacorp.com/D-B-DEVELOPERS-LIMITED-U45202PN1999PLC013957\",\n",
      "    \"https://www.zaubacorp.com/MAGNET-AUTOTECH-SOLUTIONS-PRIVATE-LIMITED-U74999PN2016PTC164819\",\n",
      "    \"https://www.zaubacorp.com/ENRICH-AGRO-PROCESSING-INDUSTRY-PRIVATE-LIMITED-U74990PN2015PTC157367\",\n",
      "    \"https://www.zaubacorp.com/PURE-HEALTH-PRODUCTS-PRIVATE-LIMITED-U85199PN1988PTC047757\",\n",
      "    \"https://www.zaubacorp.com/DEEKSHA-EXPORTS-PRIVATE-LIMITED-U51229PN2004PTC019715\",\n",
      "    \"https://www.zaubacorp.com/ASPIRE-KNOWLEDGE-AND-SKILLS-INDIA-PRIVATE-LIMITED-U80900PN2017PTC168844\",\n",
      "    \"https://www.zaubacorp.com/TRISHLA-HOTELS-PVT-LTD-U55101PN1982PTC026284\",\n",
      "    \"https://www.zaubacorp.com/BAMBOLI-AGENCIES-PRIVATE-LIMITED-U51505PN2004PTC020027\",\n",
      "    \"https://www.zaubacorp.com/RAMA-AUTOMOBILES-AGENCY-PRIVATE-LIMITED-U50401PN1993PTC075477\",\n",
      "    \"https://www.zaubacorp.com/ABHINAV-NIRMAN-PRIVATE-LIMITED-U45200PN2012PTC145460\",\n",
      "    \"https://www.zaubacorp.com/PUSHPAM-PLAZA-PRIVATE-LIMITED-U45309PN1995PTC091617\",\n",
      "    \"https://www.zaubacorp.com/APARNA-SERVICES-PRIVATE-LIMITED-U51909MH1987PTC044190\",\n",
      "    \"https://www.zaubacorp.com/G-M-KENJALE-CONSTRUCTIONS-PVT-LTD-U95202PN1993PTC073644\",\n",
      "    \"https://www.zaubacorp.com/SANCHETI-FAMILY-FOODS-INDIA-PRIVATE-LIMITED-U15135PN1998PTC012638\",\n",
      "    \"https://www.zaubacorp.com/CANPEX-CHEMICALS-PRIVATE-LIMITED-U24121PN1985PTC035089\",\n",
      "    \"https://www.zaubacorp.com/PRIMA-GEAR-CUTTING-TOOLS-PRIVATE-LIMITED-U28113MH1994PTC082166\",\n",
      "    \"https://www.zaubacorp.com/CRESCENT-FUSES-PRIVATE-LIMITED-U31300PN1998PTC112811\",\n",
      "    \"https://www.zaubacorp.com/SSM-ORGANIC-PRIVATE-LIMITED-U40100PN2018PTC174717\",\n",
      "    \"https://www.zaubacorp.com/YASH-MIRAJ-DEVELOPMENT-COMPANY-PRIVATE-LIMITED-U45200PN2014PTC151175\",\n",
      "    \"https://www.zaubacorp.com/URVINA-INDIA-PRIVATE-LIMITED-U74900PN2013FTC149313\",\n",
      "    \"https://www.zaubacorp.com/WIZKIDSCARNIVAL-TECHNOLOGIES-PRIVATE-LIMITED-U93090PN2020PTC191901\",\n",
      "    \"https://www.zaubacorp.com/LASERLINE-DIODE-LASER-TECHNOLOGY-PRIVATE-LIMITED-U74990PN2019FTC184521\",\n",
      "    \"https://www.zaubacorp.com/FOLDY-PACKAGING-PRIVATE-LIMITED-U36990PN2021PTC201701\",\n",
      "    \"https://www.zaubacorp.com/CEREBLE-PRIVATE-LIMITED-U72900PN2019PTC185985\",\n",
      "    \"https://www.zaubacorp.com/VASPAN-HEALING-PRIVATE-LIMITED-U74900PN2015PTC154772\",\n",
      "    \"https://www.zaubacorp.com/TAMBOLI-ENGINEERS-PRIVATE-LIMITED-U00359PN2006PTC022255\",\n",
      "    \"https://www.zaubacorp.com/KAPEESHWARA-PLASTICS-PRIVATE-LIMITED-U74999PN2016PTC166630\",\n",
      "    \"https://www.zaubacorp.com/MAHARASHTRA-ERECTORS-PRIVATE-LIMITED-U45201PN1991PTC062960\",\n",
      "    \"https://www.zaubacorp.com/SARDESAI-FINANCE-PRIVATE-LIMITED-U67190MH1991PTC061030\",\n",
      "    \"https://www.zaubacorp.com/SAWALKA-TOOLS-AND-MACHINES-PRIVATE-LIMITED-U99999MH1985PTC070692\",\n",
      "    \"https://www.zaubacorp.com/BAJAJ-ALLIANZ-STAFFING-SOLUTIONS-LIMITED-U74900PN2015PLC154364\",\n",
      "    \"https://www.zaubacorp.com/ELVIN-FURNITURE-PRIVATE-LIMITED-U79191MH1989PTC054755\",\n",
      "    \"https://www.zaubacorp.com/NASAN-MEDICAL-SYSTEMS-LIMITED-U33112PN2000PLC018531\",\n",
      "    \"https://www.zaubacorp.com/SPARTAN-FINVOYANCE-PRIVATE-LIMITED-U74999PN2019PTC181605\",\n",
      "    \"https://www.zaubacorp.com/MAXIM-PROMOTERS-PRIVATE-LIMITED-U45203PN2000PTC014424\",\n",
      "    \"https://www.zaubacorp.com/INTEGRATED-ACTIVE-MONITORING-PRIVATE-LIMITED-U74999PN2016PTC167219\",\n",
      "    \"https://www.zaubacorp.com/POONAWALLA-FINVEST-AND-AGRO-PRIVATE-LIMITED-U65993PN1989PTC051541\",\n",
      "    \"https://www.zaubacorp.com/FABRI-TEK-EQUIPMENTS-PRIVATE-LIMITED-U74900PN2014PTC150193\",\n",
      "    \"https://www.zaubacorp.com/SUAN-DIGITAL-IMAGES-PRIVATE-LIMITED-U74999PN2010PTC135960\",\n",
      "    \"https://www.zaubacorp.com/OPULENT-INFOTECH-PRIVATE-LIMITED-U72200PN2015PTC154415\",\n",
      "    \"https://www.zaubacorp.com/SHREE-STHAPATYA-PRIVATE-LIMITED-U45201PN1994PTC081659\",\n",
      "    \"https://www.zaubacorp.com/S-K-SANSKRITI-MOTORS-PRIVATE-LIMITED-U50200PN2014PTC151702\",\n",
      "    \"https://www.zaubacorp.com/YOGESH-FINANCIAL-CONSULTANTS-PRIVATE-LIMITED-U65993PN1987PTC045285\",\n",
      "    \"https://www.zaubacorp.com/BAYAS-HOSPITALITY-AND-CONSULTING-SERVICES-PRIVATE-LIMITED-U55209PN2023PTC217886\",\n",
      "    \"https://www.zaubacorp.com/JANAK-MERCHANT-SECURITIES-PRIVATE-LIMITED-U67120MH1997PTC111655\",\n",
      "    \"https://www.zaubacorp.com/UNIQUE-VALVES-PRIVATE-LIMITED-U74920MH1983PTC030275\",\n",
      "    \"https://www.zaubacorp.com/LINC-WISE-SOFTWARE-PRIVATE-LIMITED-U72200PN1996PTC014624\",\n",
      "    \"https://www.zaubacorp.com/TALERA-HOTELIERS-PVT-LTD-U55101MH1979PTC021337\",\n",
      "    \"https://www.zaubacorp.com/ZIRKEL-INFRACA-PRIVATE-LIMITED-U74999PN2015FTC157225\",\n",
      "    \"https://www.zaubacorp.com/VIRANI-IRON-PRIVATE-LIMITED-U51909PN2018PTC175867\",\n",
      "    \"https://www.zaubacorp.com/CATTERFLY-TRAVEL-PRIVATE-LIMITED-U63090PN2020FTC189381\",\n",
      "    \"https://www.zaubacorp.com/SHIVNERI-MUTUAL-BENEFIT-NIDHI-LIMITED-U65923PN2015PLC155242\",\n",
      "    \"https://www.zaubacorp.com/ASHWAMEGH-ENTERPRISES-PRIVATE-LIMITED-U74140PN1987PTC043715\",\n",
      "    \"https://www.zaubacorp.com/PRATIBIMB-FLEX-PACK-PRIVATE-LIMITED-U74950PN2006PTC129233\",\n",
      "    \"https://www.zaubacorp.com/PANCHGANGA-INFRA-PRIVATE-LIMITED-U45200PN2003PTC017729\",\n",
      "    \"https://www.zaubacorp.com/MAEE-HOTELS-AND-HOSPITALITIES-PRIVATE-LIMITED-U55204PN2020PTC193563\",\n",
      "    \"https://www.zaubacorp.com/TEJAL-TRANSMISSION-PRIVATE-LIMITED-U34300MH1990PTC058014\",\n",
      "    \"https://www.zaubacorp.com/SAMVED-ENERGY-SYSTEMS-PRIVATE-LIMITED-U40102PN2008PTC132743\",\n",
      "    \"https://www.zaubacorp.com/VOHRA-AUTO-DISTRIBUTORS-PRIVATE-LIMITED-U50401PN1995PTC092792\",\n",
      "    \"https://www.zaubacorp.com/PRIMA-PRIVATE-LIMITED-U21012MH1974PTC017894\",\n",
      "    \"https://www.zaubacorp.com/SCM-SCREW-PRODUCTS-PRIVATE-LIMITED-U27310PN2017PTC172188\",\n",
      "    \"https://www.zaubacorp.com/VACUUM-PLANT-AND-INSTRUMENTS-MANUFACTURING-COMPANY-LIMITED-U29120PN1965PLC013099\",\n",
      "    \"https://www.zaubacorp.com/SAVAN-TOOLS-AND-ANCILLARIES-PRIVATE-LIMITED-U29299PN2008PTC131749\",\n",
      "    \"https://www.zaubacorp.com/PASHANKAR-AUTO-PRIVATE-LIMITED-U34102PN2001PTC015973\",\n",
      "    \"https://www.zaubacorp.com/ASTUTE-ENGINEERING-SERVICES-PRIVATE-LIMITED-U74200PN2009PTC134749\",\n",
      "    \"https://www.zaubacorp.com/SHREE-GAJLAXMI-HOTELS-PRIVATE-LIMITED-U55101PN2002PTC017294\",\n",
      "    \"https://www.zaubacorp.com/WIKKERWORK-SOFTWARE-PRIVATE-LIMITED-U72200PN2015PTC154953\",\n",
      "    \"https://www.zaubacorp.com/HORIZON-FITNESS-PRIVATE-LIMITED-U74900PN2012PTC143285\",\n",
      "    \"https://www.zaubacorp.com/FLY-LEMON-TRAVEL-AND-FOREX-PRIVATE-LIMITED-U63030PN2016PTC158995\",\n",
      "    \"https://www.zaubacorp.com/VASU-LAYER-BREEDER-FARM-PRIVATE-LIMITED-U01222PN2006PTC128745\",\n",
      "    \"https://www.zaubacorp.com/BRICKETC-PRIVATE-LIMITED-U80903PN2021PTC205854\",\n",
      "    \"https://www.zaubacorp.com/AYODHYA-INDUSTRIES-PRIVATE-LIMITED-U51909PN2019PTC181586\",\n",
      "    \"https://www.zaubacorp.com/BALAJI-AUTO-INDUSTRIES-PRIVATE-LIMITED-U35900PN2021PTC201176\",\n",
      "    \"https://www.zaubacorp.com/ATHARVA-NATURE-HEALTHCARE-PRIVATE-LIMITED-U74999PN2014PTC150341\",\n",
      "    \"https://www.zaubacorp.com/REGAL-INDIA-LOGISTICS-PRIVATE-LIMITED-U63030PN2010PTC136199\",\n",
      "    \"https://www.zaubacorp.com/MAHAMUNI-ENTERPRISES-PRIVATE-LIMITED-U74900PN2014PTC151190\",\n",
      "    \"https://www.zaubacorp.com/SOFTZEAL-TECHNOLOGY-PRIVATE-LIMITED-U72200PN2011PTC141048\",\n",
      "    \"https://www.zaubacorp.com/AGNI-SOLAR-SYSTEMS-PRIVATE-LIMITED-U72100PN2000PTC015021\",\n",
      "    \"https://www.zaubacorp.com/MAAN-TRADING-PRIVATE-LIMITED-U74900PN2012PTC144905\",\n",
      "    \"https://www.zaubacorp.com/ANW-STUDIOS-PRIVATE-LIMITED-U92419PN2021PTC198358\",\n",
      "    \"https://www.zaubacorp.com/DESIGN-MEDIA-AND-EDUTAINMENT-SOLUTIONS-PRIVATE-LIMITED-U80301PN2015PTC156693\",\n",
      "    \"https://www.zaubacorp.com/EXABYTE-INFOTECH-PRIVATE-LIMITED-U72900PN2018PTC177826\",\n",
      "    \"https://www.zaubacorp.com/BHOSCH-ELECTRONICS-APPLIED-TECHNOLOGY-PRIVATE-LIMITED-U36990PN2020PTC191435\",\n",
      "    \"https://www.zaubacorp.com/ALPHABRICKS-TECHNOLOGIES-PRIVATE-LIMITED-U74999PN2010PTC137155\",\n",
      "    \"https://www.zaubacorp.com/SWARN-SUPER-SPECIALTY-HOSPITAL-PRIVATE-LIMITED-U74220PN2016PTC164647\",\n",
      "    \"https://www.zaubacorp.com/JAGDISH-HOTELS-AND-INVESTMENTS-PRIVATE-LIMITED-U55101PN1997PTC112323\",\n",
      "    \"https://www.zaubacorp.com/MY-WINGS-PRIVATE-LIMITED-U34100PN2010PTC135801\",\n",
      "    \"https://www.zaubacorp.com/FITMAT-SMART-SOLUTIONS-PRIVATE-LIMITED-U74999PN2019FTC183493\",\n",
      "    \"https://www.zaubacorp.com/PRATHAM-ENERGY-SYSTEMS-PRIVATE-LIMITED-U51909PN2020PTC190288\",\n",
      "    \"https://www.zaubacorp.com/CLIMOTION-INDIA-PRIVATE-LIMITED-U74999PN2018PTC178189\",\n",
      "    \"https://www.zaubacorp.com/KAUSTUBH-ROOFING-INDUSTRIES-PRIVATE-LIMITED-U74900PN2015PTC155229\",\n",
      "    \"https://www.zaubacorp.com/APPL-DEFENCE-AND-TELECOMMUNICATIONS-PRIVATE-LIMITED-U74999PN2018PTC179250\",\n",
      "    \"https://www.zaubacorp.com/YOGI-WIRES-PRIVATE-LIMITED-U74900PN2008PTC132493\",\n",
      "    \"https://www.zaubacorp.com/THAI-INDIA-EXPRESS-PRIVATE-LIMITED-U60232PN2017PTC169686\",\n",
      "    \"https://www.zaubacorp.com/LFS-COMMODITIES-PRIVATE-LIMITED-U74999PN2006PTC147846\",\n",
      "    \"https://www.zaubacorp.com/EMERGE-RESOURCES-PRIVATE-LIMITED-U51909PN2016PTC158468\",\n",
      "    \"https://www.zaubacorp.com/GOLDEN-GLADES-LIMITED-U70101MH1990PLC056756\",\n",
      "    \"https://www.zaubacorp.com/GIG-PRODUCTION-PRIVATE-LIMITED-U72900PN2016PTC165995\",\n",
      "    \"https://www.zaubacorp.com/NASHIK-ONLINE-LIMITED-U72900PN2012PLC142788\",\n",
      "    \"https://www.zaubacorp.com/GRASS-INDIA-FITTINGS-PRIVATE-LIMITED-U36994PN2017FTC167992\",\n",
      "    \"https://www.zaubacorp.com/COTMAC-INDUSTRIAL-TRADING-PRIVATE-LIMITED-U51909PN2010PTC136352\",\n",
      "    \"https://www.zaubacorp.com/SIDDHII-SLIDES-PRIVATE-LIMITED-U74999PN2016PTC165625\",\n",
      "    \"https://www.zaubacorp.com/PLAYER-X-MOBILE-ENTERTAINMENT-INDIA-PRIVATE-LIMITED-U72300PN2007PTC142972\"\n",
      "]\n"
     ]
    }
   ],
   "source": [
    "# Print the formatted output in copy-paste-friendly format\n",
    "output = \"urls = [\\n    \\\"\" + \"\\\",\\n    \\\"\".join(urls) + \"\\\"\\n]\"\n",
    "print(output)"
   ]
  },
  {
   "cell_type": "markdown",
   "id": "f01f7671-d349-4814-b367-2565d6b01110",
   "metadata": {},
   "source": [
    "## End"
   ]
  }
 ],
 "metadata": {
  "kernelspec": {
   "display_name": "Python 3 (ipykernel)",
   "language": "python",
   "name": "python3"
  },
  "language_info": {
   "codemirror_mode": {
    "name": "ipython",
    "version": 3
   },
   "file_extension": ".py",
   "mimetype": "text/x-python",
   "name": "python",
   "nbconvert_exporter": "python",
   "pygments_lexer": "ipython3",
   "version": "3.11.7"
  }
 },
 "nbformat": 4,
 "nbformat_minor": 5
}
